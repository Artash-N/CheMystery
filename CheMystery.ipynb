{
 "cells": [
  {
   "cell_type": "markdown",
   "metadata": {},
   "source": [
    "\n",
    "# <u>CheMystery</u> : A Tool To Determine the Composition of an Unknown Powder\n",
    "\n",
    "-------------\n",
    "\n",
    "By Artash Nath, Grade 9\n",
    "\n",
    "\n",
    "Coded from scratch using Python\n",
    "\n",
    "-------------\n",
    "\n",
    "\n",
    "A tool to decompose a mystery powder mixture into it's individual substances based on 5 properties:\n",
    " - Appearance (Coarse, Fine, or Coarse and Fine)\n",
    " - pH (Basic, Neutral or Acidic)\n",
    " - Does it react with Vinegar? (Yes/No)\n",
    " - Does it react with a Biuret solution / does it contain protein? (Yes/No) \n",
    " - Does it react with an Iodine solution / does it contain starch? (Yes/No)\n",
    " \n",
    "------------\n",
    "\n",
    "Using these 5 properties, this tool determines which combination of the following known powders is the mystery powder made of:\n",
    " - Baking Powder\n",
    " - Baking Soda\n",
    " - Corn Starch\n",
    " - Gelatin\n",
    " - Salt\n",
    " \n",
    "-----------"
   ]
  },
  {
   "cell_type": "markdown",
   "metadata": {},
   "source": [
    "### 1. Import Python Libraries"
   ]
  },
  {
   "cell_type": "code",
   "execution_count": 1,
   "metadata": {},
   "outputs": [],
   "source": [
    "import random # To randomly sample different combinations of known powders"
   ]
  },
  {
   "cell_type": "markdown",
   "metadata": {},
   "source": [
    "-------"
   ]
  },
  {
   "cell_type": "markdown",
   "metadata": {},
   "source": [
    "### 2. Define Known Substances"
   ]
  },
  {
   "cell_type": "code",
   "execution_count": 2,
   "metadata": {},
   "outputs": [],
   "source": [
    "# List of Substances\n",
    "subs = ['baking powder', 'baking soda', 'corn starch' ,'gelatin', 'salt']\n",
    "\n",
    "# And their matching properties:\n",
    "\n",
    "# Apperance (Fine = 0 | Coarse = 1 | Coarse AND Fine = 2)\n",
    "# pH (Basic = -1 | Neutral = 0 | Acidic = 1) \n",
    "# Reacts with Vinegar? (No = 0 | Yes = 1)\n",
    "# Reacts with Biuret? (No = 0 | Yes = 1)\n",
    "# Reacts with Iodine? (No = 0 | Yes = 1)\n",
    "\n",
    "              # Apperance | pH | Vinegar | Biuret | Iodine\n",
    "properties = [      [0,     0,     1,       0,        1],    # Baking Powder\n",
    "                    [0,    -1,     1,       0,        0],    # Baking Soda\n",
    "                    [0,     0,     0,       0,        1],    # Corn Starch\n",
    "                    [1,     1,     0,       1,        0],    # Gelatin\n",
    "                    [1,     0,     0,       0,        0]]    # Salt\n"
   ]
  },
  {
   "cell_type": "markdown",
   "metadata": {},
   "source": [
    "-------------"
   ]
  },
  {
   "cell_type": "markdown",
   "metadata": {},
   "source": [
    "### 3. Python Function to Combine 2 Known Powder Properties"
   ]
  },
  {
   "cell_type": "markdown",
   "metadata": {},
   "source": [
    "This function takes 2 lists of powder properties as an input, and outputs the properties belonging to a mixture of both powders"
   ]
  },
  {
   "cell_type": "code",
   "execution_count": 4,
   "metadata": {},
   "outputs": [],
   "source": [
    "def bicombine(pl1, pl2): # pl1 is first powder properties | pl2 is the second powder properties\n",
    "    \n",
    "    new = [] # List of new properties of combination of both powders\n",
    "    \n",
    "    \n",
    "    # COMBINING APPEARANCE PROPERTY\n",
    "    \n",
    "    # If one powder is fine, and the other is coarse, the new powder is both COARSE and FINE\n",
    "    if (pl1[0]!=pl2[0]) or (pl1[0]==2) or (pl2[0]==2):\n",
    "        new.append(2)\n",
    "    # If both powders are FINE, the new powder is also FINE\n",
    "    elif (pl1[0]==pl2[0]) and (pl1[0]==0):\n",
    "        new.append(0)\n",
    "    # If both powders are COARSE, the new powder is also COARSE\n",
    "    elif (pl1[0]==pl2[0]) and (pl1[0]==1):\n",
    "        new.append(1)\n",
    "        \n",
    "                   \n",
    "                   \n",
    "    # COMBINING pH PROPERTY\n",
    "\n",
    "    # If one powder is acidic and the other is neutral, OR if both powders are acidic, the new powder is acidic\n",
    "    if (pl1[1]+pl2[1] <=-1):\n",
    "        new.append(-1)\n",
    "    # If both powders are neutral, the new powder is neutral\n",
    "    elif (pl1[1]+pl2[1] ==0):\n",
    "        new.append(0)\n",
    "    # If one powder is basic and the other is neutral, OR if both powders are basic, the new powder is basic\n",
    "    elif (pl1[1]+pl2[1] >= 1):\n",
    "        new.append(1)\n",
    "        \n",
    "                   \n",
    "                   \n",
    "    # COMBINING Vinegar PROPERTY          \n",
    "    \n",
    "    # If either one of the powders react with vinegar, the new powder reacts with vinegar\n",
    "    if (pl1[2] ==1) or (pl2[2]==1):\n",
    "        new.append(1)\n",
    "    # If neither react with vinegar, the new powder does NOT react with vinegar\n",
    "    else:\n",
    "        new.append(0)\n",
    "        \n",
    "        \n",
    "                   \n",
    "    # COMBINING Biuret PROPERTY  \n",
    "                   \n",
    "    # If either one of the powders react with Biuret, the new powder reacts with Biuret                   \n",
    "    if (pl1[3] ==1) or (pl2[3]==1):\n",
    "        new.append(1)\n",
    "    else:\n",
    "        new.append(0)\n",
    "        \n",
    "                   \n",
    "       \n",
    "    # COMBINING Biuret PROPERTY  \n",
    "                   \n",
    "    # If either one of the powders react with Iodine, the new powder reacts with Iodine     \n",
    "    if (pl1[4] ==1) or (pl2[4]==1):\n",
    "        new.append(1)\n",
    "    else:\n",
    "        new.append(0)\n",
    "        \n",
    "    # Returns property of combined powders\n",
    "    return new"
   ]
  },
  {
   "cell_type": "markdown",
   "metadata": {},
   "source": [
    "-----------------"
   ]
  },
  {
   "cell_type": "markdown",
   "metadata": {},
   "source": [
    "This function does the same thing as the above function, but outputs the merged properties of both powders as words instead of numbers"
   ]
  },
  {
   "cell_type": "code",
   "execution_count": 5,
   "metadata": {},
   "outputs": [],
   "source": [
    "def bimagic(a, b):\n",
    "    a1 = properties[subs.index(a.lower())]\n",
    "    b1 = properties[subs.index(b.lower())]\n",
    "    \n",
    "    \n",
    "    new = bicombine(a1, b1)\n",
    "    \n",
    "    new2 = []\n",
    "    \n",
    "    if new[0]==2:\n",
    "        new2.append('Coarse/Fine')\n",
    "    if new[0]==0:\n",
    "        new2.append('Fine')\n",
    "    if new[0]==1:\n",
    "        new2.append('Coarse')\n",
    "        \n",
    "    if new[1] == 0: new2.append('neutral')\n",
    "    elif new[1] == 1: new2.append('Acid')\n",
    "    elif new[1] == -1 : new2.append('Base')\n",
    "    \n",
    "    \n",
    "    if new[2] == 1 : new2.append('Yes')\n",
    "    if new[2] == 0 : new2.append('No')\n",
    "    \n",
    "    if new[3] == 1 : new2.append('Yes')\n",
    "    if new[3] == 0 : new2.append('No')\n",
    "    \n",
    "    if new[4] == 1 : new2.append('Yes')\n",
    "    if new[4] == 0 : new2.append('No')\n",
    "    \n",
    "    return new2"
   ]
  },
  {
   "cell_type": "markdown",
   "metadata": {},
   "source": [
    "-----------"
   ]
  },
  {
   "cell_type": "markdown",
   "metadata": {},
   "source": [
    "A repeat of the above 2 functions, but for a mixture of 3 powders instead of 2:"
   ]
  },
  {
   "cell_type": "code",
   "execution_count": 6,
   "metadata": {},
   "outputs": [],
   "source": [
    "def tricombine(pl1, pl2, pl3):\n",
    "    return bicombine(pl1, bicombine(pl2, pl3))\n",
    "\n",
    "def trimagic(a, b, c):\n",
    "    a1 = properties[subs.index(a.lower())]\n",
    "    b1 = properties[subs.index(b.lower())]\n",
    "    c1 = properties[subs.index(c.lower())]\n",
    "    \n",
    "    new = tricombine(a1, b1, c1)\n",
    "    \n",
    "    new2 = []\n",
    "    \n",
    "    if new[0]==2:\n",
    "        new2.append('Coarse/Fine')\n",
    "    if new[0]==0:\n",
    "        new2.append('Fine')\n",
    "    if new[0]==1:\n",
    "        new2.append('Coarse')\n",
    "        \n",
    "    if new[1] == 0: new2.append('neutral')\n",
    "    elif new[1] == 1: new2.append('Acid')\n",
    "    elif new[1] == -1 : new2.append('Base')\n",
    "    \n",
    "    \n",
    "    if new[2] == 1 : new2.append('Yes')\n",
    "    if new[2] == 0 : new2.append('No')\n",
    "    \n",
    "    if new[3] == 1 : new2.append('Yes')\n",
    "    if new[3] == 0 : new2.append('No')\n",
    "    \n",
    "    if new[4] == 1 : new2.append('Yes')\n",
    "    if new[4] == 0 : new2.append('No')\n",
    "\n",
    "    return new2\n"
   ]
  },
  {
   "cell_type": "markdown",
   "metadata": {},
   "source": [
    "----------------------"
   ]
  },
  {
   "cell_type": "markdown",
   "metadata": {},
   "source": [
    "### 4. Python Function to Decompose an Unknown Powder into 2 (or 3) Known Powders"
   ]
  },
  {
   "cell_type": "code",
   "execution_count": 7,
   "metadata": {},
   "outputs": [],
   "source": [
    "# Decompose Unknown Powder into 2 Known Powders\n",
    "def bidecompose(property_list):\n",
    "    \n",
    "    # Keep sampling mixtures of known powders till the perfect combination is found\n",
    "    while True:\n",
    "        # Choose 2 random known powders\n",
    "        a, b = random.sample(properties, 2)\n",
    "        # Check if the 2 powders combine into the uknown powder\n",
    "        if bicombine(a, b) == property_list:\n",
    "            # if it works, break the loop\n",
    "            break\n",
    "            \n",
    "    # Find the name of the 2 powders that worked\n",
    "    a1 = subs[properties.index(a)]\n",
    "    b1 = subs[properties.index(b)]\n",
    "    \n",
    "    # return the 2 powders that worked\n",
    "    return a1, b1\n",
    "\n",
    "# Decompose Unknown Powder into 3 Known Powders\n",
    "def tridecompose(property_list):\n",
    "    \n",
    "    COUNT=0\n",
    "    while True:\n",
    "        a, b, c = random.sample(properties, 3)\n",
    "        if tricombine(a, b, c) == property_list:\n",
    "            break\n",
    "        COUNT+=1\n",
    "        if COUNT>1000:\n",
    "            return 'ERROR | Combination Not Found'\n",
    "        \n",
    "    a1 = subs[properties.index(a)]\n",
    "    b1 = subs[properties.index(b)]\n",
    "    c1 = subs[properties.index(c)]\n",
    "    \n",
    "    return a1, b1, c1"
   ]
  },
  {
   "cell_type": "markdown",
   "metadata": {},
   "source": [
    "-----------"
   ]
  },
  {
   "cell_type": "markdown",
   "metadata": {},
   "source": [
    "# Demo"
   ]
  },
  {
   "cell_type": "markdown",
   "metadata": {},
   "source": [
    "Now let's test if the function is able to decompose an unknown powder into known powders"
   ]
  },
  {
   "cell_type": "markdown",
   "metadata": {},
   "source": [
    "----------------------\n",
    "\n",
    "### Test 1 : We have a mystery powder that is: Coarse and Fine, Acidic, and reacts to Vinegar, Buriet and Iodine\n",
    "\n",
    "### In this test, we try to decompose it into _2_ known powders\n"
   ]
  },
  {
   "cell_type": "code",
   "execution_count": 21,
   "metadata": {},
   "outputs": [
    {
     "name": "stdout",
     "output_type": "stream",
     "text": [
      "========================================================================\n",
      "This mystery powder is made up of baking powder and gelatin\n",
      "========================================================================\n"
     ]
    }
   ],
   "source": [
    "# Storing the powder properties as numbers\n",
    "\n",
    "                  # Apperance | pH | Vinegar | Biuret | Iodine\n",
    "mystery_powder1 = [     2,      1,     1,       1,        1]\n",
    "\n",
    "result = bidecompose(mystery_powder1)\n",
    "\n",
    "print('========================================================================')\n",
    "print(\"This mystery powder is made up of {} and {}\".format(result[0], result[1]))\n",
    "print('========================================================================')"
   ]
  },
  {
   "cell_type": "markdown",
   "metadata": {},
   "source": [
    "----------------------\n",
    "\n",
    "### Test 2 : We have a mystery powder that is: Coarse and Fine, Acidic, doesn't react with Vinegar, but reacts with Buriet and Iodine\n",
    "\n",
    "### In this test we try to decompose it into _3_ known powders"
   ]
  },
  {
   "cell_type": "code",
   "execution_count": 22,
   "metadata": {},
   "outputs": [
    {
     "name": "stdout",
     "output_type": "stream",
     "text": [
      "========================================================================\n",
      "This mystery powder is made up of corn starch, gelatin, and salt\n",
      "========================================================================\n"
     ]
    }
   ],
   "source": [
    "# Storing the powder properties as numbers\n",
    "\n",
    "                  # Apperance | pH | Vinegar | Biuret | Iodine\n",
    "mystery_powder2 = [     2,      1,     0,       1,        1]\n",
    "\n",
    "result = tridecompose(mystery_powder2)\n",
    "\n",
    "print('========================================================================')\n",
    "print(\"This mystery powder is made up of {}, {}, and {}\".format(result[0], result[1], result[2]))\n",
    "print('========================================================================')"
   ]
  },
  {
   "cell_type": "markdown",
   "metadata": {},
   "source": [
    "------"
   ]
  },
  {
   "cell_type": "markdown",
   "metadata": {},
   "source": [
    "Feel free to try out these functions for other mystery powders, by editing the \"mystery_powder\" variables"
   ]
  }
 ],
 "metadata": {
  "kernelspec": {
   "display_name": "Python 3",
   "language": "python",
   "name": "python3"
  },
  "language_info": {
   "codemirror_mode": {
    "name": "ipython",
    "version": 3
   },
   "file_extension": ".py",
   "mimetype": "text/x-python",
   "name": "python",
   "nbconvert_exporter": "python",
   "pygments_lexer": "ipython3",
   "version": "3.7.4"
  }
 },
 "nbformat": 4,
 "nbformat_minor": 4
}
